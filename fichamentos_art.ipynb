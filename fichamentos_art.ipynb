{
 "cells": [
  {
   "cell_type": "markdown",
   "metadata": {},
   "source": [
    "# FICHAMENTO DE ARTIGOS\n",
    "\n",
    "## Este documento possuí as anotações de fichamento referente aos artigos estudados para construção do projeto de mestrado\n",
    "\n",
    "### Aluno: João Vitor Maccari Brabo Castro\n",
    "\n",
    "### Projeto de Mestrado em Engenharia Biomédica\n",
    "\n",
    "### Tema: Modelo de Machine Learning para ajustes e sugestões nos hábitos de pessoas com Diabetes de acordo com o registro de Glicose do Paciente"
   ]
  },
  {
   "cell_type": "code",
   "execution_count": 1,
   "metadata": {},
   "outputs": [],
   "source": [
    "import requests\n",
    "import pandas as pd\n",
    "import os\n",
    "#criando uma classe que será responsável por gerar objetos que serão nossos artigos\n",
    "#a ideia é que com a inicialização desse objeto sempre que instanciado podemos acessar as outras informações rapidamente\n",
    "#além de \n",
    "class Fichamento:\n",
    "    '''\n",
    "            Cria um Objeto de fichamento, \n",
    "            onde serão armazendas as informações\n",
    "            do artigo lido, para posteriormente utiliza-las \n",
    "            Entre elas deve ser inicializado com\n",
    "            Título, Autor, Revista e Doi\n",
    "    '''\n",
    "    def __init__(self,title,authors,magazine,doi):\n",
    "\n",
    "        self.typeText = 'Artigo'\n",
    "        self.title = title\n",
    "        self.authors = authors\n",
    "        self.magazine = magazine\n",
    "        self.doi = 'https://doi.org/'+doi\n",
    "        self.countNotas = 1\n",
    "    \n",
    "    def doi_Consult(self,doi_):\n",
    "        '''\n",
    "            Realiza consulta do DOI para validação do objeto\n",
    "        '''\n",
    "        headers = {'User-Agent': \n",
    "                   'Mozilla/5.0 (Windows NT 10.0; Win64; x64) AppleWebKit/537.36 (KHTML, like Gecko) Chrome/120.0.0.0 Safari/537.36'\n",
    "                   }\n",
    "        resp = requests.get(doi_,headers=headers)\n",
    "        if resp.status_code in [200,418]:\n",
    "            return True\n",
    "        else:\n",
    "            return False\n",
    "    \n",
    "    def criaNote(self,capitulo,citacao,comentario,assunto):\n",
    "        '''\n",
    "            Cria uma citação referenciada ao artigo objeto\n",
    "            :param capitulo: string, Capítulo em que foi referenciado;\n",
    "            :param citacao: docstring, Citação que gerou insight;\n",
    "            :param comentario: docstring, Comentário/Insight retirado Texto\n",
    "            :param assunto: Assunto referente a anotação\n",
    "        '''\n",
    "        nota = {'Assunto':assunto,'Título':self.title,'Capítulo':capitulo,'Citação':citacao,'Comentário/Insight':comentario}\n",
    "        nota = pd.Series(nota)\n",
    "        nota.to_json('fichamentos/'+self.title+'_'+str(self.countNotas)+'.json')\n",
    "        self.countNotas +=1  \n",
    "        return nota"
   ]
  },
  {
   "cell_type": "code",
   "execution_count": null,
   "metadata": {},
   "outputs": [],
   "source": []
  }
 ],
 "metadata": {
  "kernelspec": {
   "display_name": "base",
   "language": "python",
   "name": "python3"
  },
  "language_info": {
   "codemirror_mode": {
    "name": "ipython",
    "version": 3
   },
   "file_extension": ".py",
   "mimetype": "text/x-python",
   "name": "python",
   "nbconvert_exporter": "python",
   "pygments_lexer": "ipython3",
   "version": "3.11.5"
  }
 },
 "nbformat": 4,
 "nbformat_minor": 2
}
